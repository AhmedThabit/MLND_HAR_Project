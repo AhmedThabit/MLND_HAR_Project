{
 "cells": [
  {
   "cell_type": "code",
   "execution_count": 30,
   "metadata": {},
   "outputs": [],
   "source": [
    "# Importing Libraries\n",
    "import pandas as pd\n",
    "import matplotlib.pyplot as plt\n",
    "import numpy as np\n",
    "import glob\n",
    "import tensorflow as tf\n",
    "from keras.models import Sequential\n",
    "from keras.layers import LSTM\n",
    "from keras.layers.core import Dense, Dropout\n",
    "from keras import optimizers\n",
    "from keras.layers.normalization import BatchNormalization"
   ]
  },
  {
   "cell_type": "code",
   "execution_count": 31,
   "metadata": {},
   "outputs": [],
   "source": [
    "np.random.seed(7)\n",
    "tf.set_random_seed(7)\n"
   ]
  },
  {
   "cell_type": "code",
   "execution_count": 32,
   "metadata": {},
   "outputs": [],
   "source": [
    "# Activities are the class labels\n",
    "# It is a 6 class classification\n",
    "ACTIVITIES = {\n",
    "    0: 'WALKING',\n",
    "    1: 'WALKING_UPSTAIRS',\n",
    "    2: 'WALKING_DOWNSTAIRS',\n",
    "    3: 'SITTING',\n",
    "    4: 'STANDING',\n",
    "    5: 'LAYING',\n",
    "}\n",
    "\n",
    "# Utility function to print the confusion matrix\n",
    "def confusion_matrix(Y_true, Y_pred):\n",
    "    Y_true = pd.Series([ACTIVITIES[y] for y in np.argmax(Y_true, axis=1)])\n",
    "    Y_pred = pd.Series([ACTIVITIES[y] for y in np.argmax(Y_pred, axis=1)])\n",
    "\n",
    "    return pd.crosstab(Y_true, Y_pred, rownames=['True'], colnames=['Pred'])"
   ]
  },
  {
   "cell_type": "code",
   "execution_count": 33,
   "metadata": {},
   "outputs": [],
   "source": [
    "train = pd.read_csv('UCI_HAR_Dataset/train/train.csv')\n",
    "test = pd.read_csv('UCI_HAR_Dataset/test/test.csv')\n",
    "\n",
    "X_train = train.drop(['subject', 'Activity'], axis=1)\n",
    "Y_train = train.Activity\n"
   ]
  },
  {
   "cell_type": "code",
   "execution_count": 34,
   "metadata": {},
   "outputs": [],
   "source": [
    "def get_data_train(data_type=None):\n",
    "    \n",
    "    data_path = \"UCI_HAR_Dataset/\"\n",
    "    type_path = \"{}/\".format(data_type)\n",
    "    \n",
    "    input_data_path = data_path + type_path + '/*.csv'\n",
    "    input_data_files = sorted(glob.glob(input_data_path))\n",
    "\n",
    "    if not __debug__:\n",
    "        print(input_data_files)\n",
    "\n",
    "    x = np.dstack([X_train for input_data_file in input_data_files])\n",
    "    y = y_one_hot = pd.get_dummies(Y_train).as_matrix()\n",
    "\n",
    "    return x, y\n",
    "\n",
    "def get_data_test(data_type=None):\n",
    "    \n",
    "    data_path = \"UCI_HAR_Dataset/\"\n",
    "    type_path = \"{}/\".format(data_type)\n",
    "    \n",
    "    input_data_path = data_path + type_path + '/*.csv'\n",
    "    input_data_files = sorted(glob.glob(input_data_path))\n",
    "\n",
    "    if not __debug__:\n",
    "        print(input_data_files)\n",
    "\n",
    "    x = np.dstack([X_test for input_data_file in input_data_files])\n",
    "    y = y_one_hot = pd.get_dummies(Y_test).as_matrix()\n",
    "\n",
    "    return x, y"
   ]
  },
  {
   "cell_type": "code",
   "execution_count": 35,
   "metadata": {},
   "outputs": [
    {
     "name": "stderr",
     "output_type": "stream",
     "text": [
      "C:\\Users\\Master\\Anaconda3\\lib\\site-packages\\ipykernel_launcher.py:13: FutureWarning: Method .as_matrix will be removed in a future version. Use .values instead.\n",
      "  del sys.path[0]\n"
     ]
    }
   ],
   "source": [
    "X_train, Y_train = get_data_train(\"train\")"
   ]
  },
  {
   "cell_type": "code",
   "execution_count": null,
   "metadata": {},
   "outputs": [],
   "source": []
  },
  {
   "cell_type": "code",
   "execution_count": 36,
   "metadata": {},
   "outputs": [],
   "source": [
    "\n",
    "X_test = test.drop(['subject', 'Activity'], axis=1)\n",
    "Y_test = test.Activity"
   ]
  },
  {
   "cell_type": "code",
   "execution_count": 37,
   "metadata": {},
   "outputs": [
    {
     "name": "stderr",
     "output_type": "stream",
     "text": [
      "C:\\Users\\Master\\Anaconda3\\lib\\site-packages\\ipykernel_launcher.py:29: FutureWarning: Method .as_matrix will be removed in a future version. Use .values instead.\n"
     ]
    }
   ],
   "source": [
    "X_test, Y_test = get_data_test(\"test\")"
   ]
  },
  {
   "cell_type": "code",
   "execution_count": 38,
   "metadata": {},
   "outputs": [],
   "source": [
    "# Configuring a session\n",
    "session_conf = tf.ConfigProto(\n",
    "    intra_op_parallelism_threads=1,\n",
    "    inter_op_parallelism_threads=1\n",
    ")"
   ]
  },
  {
   "cell_type": "code",
   "execution_count": 39,
   "metadata": {},
   "outputs": [],
   "source": [
    "from keras import backend as keras_backend\n",
    "sess = tf.Session(graph=tf.get_default_graph(), config=session_conf)\n",
    "keras_backend.set_session(sess)"
   ]
  },
  {
   "cell_type": "code",
   "execution_count": 40,
   "metadata": {},
   "outputs": [],
   "source": [
    "# Initializing parameters\n",
    "epochs = 45\n",
    "batch_size = 64\n",
    "n_hidden = 32"
   ]
  },
  {
   "cell_type": "code",
   "execution_count": 41,
   "metadata": {},
   "outputs": [],
   "source": [
    "# Utility function to count the number of classes\n",
    "def _count_classes(y):\n",
    "    return len(set([tuple(category) for category in y]))"
   ]
  },
  {
   "cell_type": "code",
   "execution_count": 42,
   "metadata": {},
   "outputs": [
    {
     "name": "stdout",
     "output_type": "stream",
     "text": [
      "561\n",
      "1\n",
      "7352\n"
     ]
    }
   ],
   "source": [
    "timesteps = len(X_train[0])\n",
    "input_dim = len(X_train[0][0])\n",
    "n_classes = _count_classes(Y_train)\n",
    "\n",
    "print(timesteps)\n",
    "print(input_dim)\n",
    "print(len(X_train))\n"
   ]
  },
  {
   "cell_type": "markdown",
   "metadata": {},
   "source": [
    "### LSTM Architecture - 1"
   ]
  },
  {
   "cell_type": "code",
   "execution_count": 43,
   "metadata": {},
   "outputs": [
    {
     "name": "stdout",
     "output_type": "stream",
     "text": [
      "_________________________________________________________________\n",
      "Layer (type)                 Output Shape              Param #   \n",
      "=================================================================\n",
      "lstm_7 (LSTM)                (None, 32)                4352      \n",
      "_________________________________________________________________\n",
      "dropout_7 (Dropout)          (None, 32)                0         \n",
      "_________________________________________________________________\n",
      "dense_7 (Dense)              (None, 100)               3300      \n",
      "_________________________________________________________________\n",
      "dense_8 (Dense)              (None, 6)                 606       \n",
      "=================================================================\n",
      "Total params: 8,258\n",
      "Trainable params: 8,258\n",
      "Non-trainable params: 0\n",
      "_________________________________________________________________\n"
     ]
    }
   ],
   "source": [
    "# Initiliazing the sequential model\n",
    "model = Sequential()\n",
    "# Configuring the parameters\n",
    "model.add(LSTM(32, input_shape=(timesteps, input_dim)))\n",
    "# Adding a dropout layer\n",
    "model.add(Dropout(0.4))\n",
    "model.add(Dense(100, activation='relu'))\n",
    "# Adding a dense output layer with sigmoid activation\n",
    "model.add(Dense(n_classes, activation='sigmoid'))\n",
    "model.summary()"
   ]
  },
  {
   "cell_type": "code",
   "execution_count": 44,
   "metadata": {},
   "outputs": [],
   "source": [
    "# Compiling the model\n",
    "model.compile(loss='categorical_crossentropy', optimizer='rmsprop', metrics=['accuracy'])"
   ]
  },
  {
   "cell_type": "code",
   "execution_count": 45,
   "metadata": {},
   "outputs": [
    {
     "name": "stdout",
     "output_type": "stream",
     "text": [
      "Train on 7352 samples, validate on 2947 samples\n",
      "Epoch 1/45\n",
      "7352/7352 [==============================] - 119s 16ms/step - loss: 1.5635 - acc: 0.2806 - val_loss: 1.2866 - val_acc: 0.3495\n",
      "Epoch 2/45\n",
      "7352/7352 [==============================] - 108s 15ms/step - loss: 1.3321 - acc: 0.3347 - val_loss: 1.1674 - val_acc: 0.3495\n",
      "Epoch 3/45\n",
      "7352/7352 [==============================] - 99s 13ms/step - loss: 1.2442 - acc: 0.3453 - val_loss: 1.1114 - val_acc: 0.3383\n",
      "Epoch 4/45\n",
      "7352/7352 [==============================] - 86s 12ms/step - loss: 1.1769 - acc: 0.3555 - val_loss: 1.1044 - val_acc: 0.3509\n",
      "Epoch 5/45\n",
      "7352/7352 [==============================] - 81s 11ms/step - loss: 1.1678 - acc: 0.3520 - val_loss: 1.1184 - val_acc: 0.3482\n",
      "Epoch 6/45\n",
      "7352/7352 [==============================] - 82s 11ms/step - loss: 1.1467 - acc: 0.3645 - val_loss: 1.1188 - val_acc: 0.3495\n",
      "Epoch 7/45\n",
      "7352/7352 [==============================] - 88s 12ms/step - loss: 1.1364 - acc: 0.3613 - val_loss: 1.2254 - val_acc: 0.3346\n",
      "Epoch 8/45\n",
      "7352/7352 [==============================] - 82s 11ms/step - loss: 1.1112 - acc: 0.4034 - val_loss: 1.0701 - val_acc: 0.4418\n",
      "Epoch 9/45\n",
      "7352/7352 [==============================] - 92s 13ms/step - loss: 1.0794 - acc: 0.4419 - val_loss: 1.0448 - val_acc: 0.4628\n",
      "Epoch 10/45\n",
      "7352/7352 [==============================] - 85s 12ms/step - loss: 1.1203 - acc: 0.4559 - val_loss: 1.0218 - val_acc: 0.5019\n",
      "Epoch 11/45\n",
      "7352/7352 [==============================] - 82s 11ms/step - loss: 1.0495 - acc: 0.4702 - val_loss: 1.0673 - val_acc: 0.4591\n",
      "Epoch 12/45\n",
      "7352/7352 [==============================] - 85s 11ms/step - loss: 1.0128 - acc: 0.5139 - val_loss: 0.9473 - val_acc: 0.5857\n",
      "Epoch 13/45\n",
      "7352/7352 [==============================] - 114s 16ms/step - loss: 1.0516 - acc: 0.5445 - val_loss: 0.8747 - val_acc: 0.6230\n",
      "Epoch 14/45\n",
      "7352/7352 [==============================] - 99s 13ms/step - loss: 1.1758 - acc: 0.5717 - val_loss: 0.8108 - val_acc: 0.6671\n",
      "Epoch 15/45\n",
      "7352/7352 [==============================] - 100s 14ms/step - loss: 0.8408 - acc: 0.6423 - val_loss: 0.7345 - val_acc: 0.6875\n",
      "Epoch 16/45\n",
      "7352/7352 [==============================] - 108s 15ms/step - loss: 0.7874 - acc: 0.6587 - val_loss: 0.6747 - val_acc: 0.7285\n",
      "Epoch 17/45\n",
      "7352/7352 [==============================] - 92s 13ms/step - loss: 0.7631 - acc: 0.6763 - val_loss: 0.6361 - val_acc: 0.7564\n",
      "Epoch 18/45\n",
      "7352/7352 [==============================] - 107s 15ms/step - loss: 0.7374 - acc: 0.6795 - val_loss: 0.6046 - val_acc: 0.7645\n",
      "Epoch 19/45\n",
      "7352/7352 [==============================] - 119s 16ms/step - loss: 0.7021 - acc: 0.6994 - val_loss: 0.5973 - val_acc: 0.7360\n",
      "Epoch 20/45\n",
      "7352/7352 [==============================] - 102s 14ms/step - loss: 0.6805 - acc: 0.7142 - val_loss: 0.6557 - val_acc: 0.7431\n",
      "Epoch 21/45\n",
      "7352/7352 [==============================] - 100s 14ms/step - loss: 0.6706 - acc: 0.7171 - val_loss: 0.5692 - val_acc: 0.7645\n",
      "Epoch 22/45\n",
      "7352/7352 [==============================] - 114s 16ms/step - loss: 0.6524 - acc: 0.7244 - val_loss: 0.6127 - val_acc: 0.7129\n",
      "Epoch 23/45\n",
      "7352/7352 [==============================] - 124s 17ms/step - loss: 0.6328 - acc: 0.7329 - val_loss: 0.5321 - val_acc: 0.7913\n",
      "Epoch 24/45\n",
      "7352/7352 [==============================] - 116s 16ms/step - loss: 0.6105 - acc: 0.7417 - val_loss: 0.5518 - val_acc: 0.7869\n",
      "Epoch 25/45\n",
      "7352/7352 [==============================] - 85s 12ms/step - loss: 0.5990 - acc: 0.7530 - val_loss: 0.5137 - val_acc: 0.8096\n",
      "Epoch 26/45\n",
      "7352/7352 [==============================] - 86s 12ms/step - loss: 0.5909 - acc: 0.7561 - val_loss: 0.5291 - val_acc: 0.7879\n",
      "Epoch 27/45\n",
      "7352/7352 [==============================] - 87s 12ms/step - loss: 0.5706 - acc: 0.7624 - val_loss: 0.5024 - val_acc: 0.8096\n",
      "Epoch 28/45\n",
      "7352/7352 [==============================] - 87s 12ms/step - loss: 0.5655 - acc: 0.7703 - val_loss: 0.5035 - val_acc: 0.7995\n",
      "Epoch 29/45\n",
      "7352/7352 [==============================] - 120s 16ms/step - loss: 0.5628 - acc: 0.7716 - val_loss: 0.4720 - val_acc: 0.8307\n",
      "Epoch 30/45\n",
      "7352/7352 [==============================] - 135s 18ms/step - loss: 0.5427 - acc: 0.7771 - val_loss: 0.5370 - val_acc: 0.7849\n",
      "Epoch 31/45\n",
      "7352/7352 [==============================] - 149s 20ms/step - loss: 0.5390 - acc: 0.7843 - val_loss: 0.4819 - val_acc: 0.8157\n",
      "Epoch 32/45\n",
      "7352/7352 [==============================] - 125s 17ms/step - loss: 0.5380 - acc: 0.7818 - val_loss: 0.5122 - val_acc: 0.8001\n",
      "Epoch 33/45\n",
      "7352/7352 [==============================] - 109s 15ms/step - loss: 0.5255 - acc: 0.7916 - val_loss: 0.5867 - val_acc: 0.7917\n",
      "Epoch 34/45\n",
      "7352/7352 [==============================] - 138s 19ms/step - loss: 0.5097 - acc: 0.7935 - val_loss: 0.4582 - val_acc: 0.8225\n",
      "Epoch 35/45\n",
      "7352/7352 [==============================] - 118s 16ms/step - loss: 0.5037 - acc: 0.7957 - val_loss: 0.4477 - val_acc: 0.8324\n",
      "Epoch 36/45\n",
      "7352/7352 [==============================] - 113s 15ms/step - loss: 0.4916 - acc: 0.8069 - val_loss: 0.4502 - val_acc: 0.8256\n",
      "Epoch 37/45\n",
      "7352/7352 [==============================] - 115s 16ms/step - loss: 0.4932 - acc: 0.8028 - val_loss: 0.5178 - val_acc: 0.8157\n",
      "Epoch 38/45\n",
      "7352/7352 [==============================] - 112s 15ms/step - loss: 0.4868 - acc: 0.8124 - val_loss: 0.4345 - val_acc: 0.8331\n",
      "Epoch 39/45\n",
      "7352/7352 [==============================] - 114s 15ms/step - loss: 0.4670 - acc: 0.8147 - val_loss: 0.5540 - val_acc: 0.7906\n",
      "Epoch 40/45\n",
      "7352/7352 [==============================] - 121s 16ms/step - loss: 0.4617 - acc: 0.8154 - val_loss: 0.4974 - val_acc: 0.8151\n",
      "Epoch 41/45\n",
      "7352/7352 [==============================] - 84s 11ms/step - loss: 0.4570 - acc: 0.8161 - val_loss: 0.4299 - val_acc: 0.8459\n",
      "Epoch 42/45\n",
      "7352/7352 [==============================] - 81s 11ms/step - loss: 0.4498 - acc: 0.8181 - val_loss: 0.4635 - val_acc: 0.8232\n",
      "Epoch 43/45\n",
      "7352/7352 [==============================] - 82s 11ms/step - loss: 0.4486 - acc: 0.8228 - val_loss: 0.5185 - val_acc: 0.8113\n",
      "Epoch 44/45\n",
      "7352/7352 [==============================] - 81s 11ms/step - loss: 0.4386 - acc: 0.8248 - val_loss: 0.5247 - val_acc: 0.8090\n",
      "Epoch 45/45\n",
      "7352/7352 [==============================] - 81s 11ms/step - loss: 0.4360 - acc: 0.8294 - val_loss: 0.4311 - val_acc: 0.8371\n"
     ]
    },
    {
     "data": {
      "text/plain": [
       "<keras.callbacks.History at 0x121493d9748>"
      ]
     },
     "execution_count": 45,
     "metadata": {},
     "output_type": "execute_result"
    }
   ],
   "source": [
    "# Training the model\n",
    "model.fit(X_train, Y_train, batch_size=batch_size, validation_data=(X_test, Y_test), epochs=epochs)"
   ]
  },
  {
   "cell_type": "code",
   "execution_count": 46,
   "metadata": {},
   "outputs": [
    {
     "name": "stdout",
     "output_type": "stream",
     "text": [
      "Pred                LAYING  SITTING  STANDING  WALKING  WALKING_DOWNSTAIRS  \\\n",
      "True                                                                         \n",
      "LAYING                 352      108         8        1                   2   \n",
      "SITTING                 20      469         7        0                   0   \n",
      "STANDING                53      118       249        0                   0   \n",
      "WALKING                  0        0         0      536                   0   \n",
      "WALKING_DOWNSTAIRS       0        0         0        0                 454   \n",
      "WALKING_UPSTAIRS         0        0         0       11                  73   \n",
      "\n",
      "Pred                WALKING_UPSTAIRS  \n",
      "True                                  \n",
      "LAYING                             0  \n",
      "SITTING                            0  \n",
      "STANDING                           0  \n",
      "WALKING                            1  \n",
      "WALKING_DOWNSTAIRS                78  \n",
      "WALKING_UPSTAIRS                 407  \n"
     ]
    }
   ],
   "source": [
    "# Confusion Matrix\n",
    "print(confusion_matrix(Y_test, model.predict(X_test)))"
   ]
  },
  {
   "cell_type": "code",
   "execution_count": 47,
   "metadata": {},
   "outputs": [
    {
     "name": "stdout",
     "output_type": "stream",
     "text": [
      "2947/2947 [==============================] - 9s 3ms/step\n"
     ]
    }
   ],
   "source": [
    "score = model.evaluate(X_test, Y_test)"
   ]
  },
  {
   "cell_type": "code",
   "execution_count": 48,
   "metadata": {},
   "outputs": [
    {
     "data": {
      "text/plain": [
       "[0.4310899884125561, 0.8371224974651518]"
      ]
     },
     "execution_count": 48,
     "metadata": {},
     "output_type": "execute_result"
    }
   ],
   "source": [
    "score"
   ]
  },
  {
   "cell_type": "code",
   "execution_count": 49,
   "metadata": {},
   "outputs": [
    {
     "data": {
      "text/plain": [
       "<matplotlib.legend.Legend at 0x1211b15ed48>"
      ]
     },
     "execution_count": 49,
     "metadata": {},
     "output_type": "execute_result"
    },
    {
     "data": {
      "image/png": "[encoded data removed]",
      "text/plain": [
       "<Figure size 432x288 with 1 Axes>"
      ]
     },
     "metadata": {
      "needs_background": "light"
     },
     "output_type": "display_data"
    }
   ],
   "source": [
    "plt.plot(model.history.history['loss'])\n",
    "plt.plot(model.history.history['val_loss'])\n",
    "plt.title('Model Loss')\n",
    "plt.ylabel('Loss')\n",
    "plt.xlabel('Epoch')\n",
    "plt.legend(['Train', 'Crossvalidation'])"
   ]
  },
  {
   "cell_type": "markdown",
   "metadata": {},
   "source": [
    "### LSTM Architecture - 2"
   ]
  },
  {
   "cell_type": "code",
   "execution_count": 50,
   "metadata": {},
   "outputs": [
    {
     "name": "stdout",
     "output_type": "stream",
     "text": [
      "_________________________________________________________________\n",
      "Layer (type)                 Output Shape              Param #   \n",
      "=================================================================\n",
      "lstm_8 (LSTM)                (None, 561, 32)           4352      \n",
      "_________________________________________________________________\n",
      "dropout_8 (Dropout)          (None, 561, 32)           0         \n",
      "_________________________________________________________________\n",
      "lstm_9 (LSTM)                (None, 32)                8320      \n",
      "_________________________________________________________________\n",
      "dropout_9 (Dropout)          (None, 32)                0         \n",
      "_________________________________________________________________\n",
      "dense_9 (Dense)              (None, 100)               3300      \n",
      "_________________________________________________________________\n",
      "dense_10 (Dense)             (None, 6)                 606       \n",
      "=================================================================\n",
      "Total params: 16,578\n",
      "Trainable params: 16,578\n",
      "Non-trainable params: 0\n",
      "_________________________________________________________________\n"
     ]
    }
   ],
   "source": [
    "# Initiliazing the sequential model\n",
    "model_2 = Sequential()\n",
    "# Configuring the parameters\n",
    "model_2.add(LSTM(32, return_sequences = True, input_shape=(timesteps, input_dim)))\n",
    "model_2.add(Dropout(0.4))\n",
    "model_2.add(LSTM(32))\n",
    "model_2.add(Dropout(0.4))\n",
    "model_2.add(Dense(100, activation='relu'))\n",
    "# Adding a dense output layer with sigmoid activation\n",
    "model_2.add(Dense(n_classes, activation='sigmoid'))\n",
    "model_2.summary()"
   ]
  },
  {
   "cell_type": "code",
   "execution_count": 51,
   "metadata": {},
   "outputs": [],
   "source": [
    "# Compiling the model\n",
    "model_2.compile(loss='categorical_crossentropy', optimizer='rmsprop', metrics=['accuracy'])"
   ]
  },
  {
   "cell_type": "code",
   "execution_count": 52,
   "metadata": {},
   "outputs": [
    {
     "name": "stdout",
     "output_type": "stream",
     "text": [
      "Train on 7352 samples, validate on 2947 samples\n",
      "Epoch 1/45\n",
      "7352/7352 [==============================] - 198s 27ms/step - loss: 1.4336 - acc: 0.3112 - val_loss: 1.1465 - val_acc: 0.3502\n",
      "Epoch 2/45\n",
      "7352/7352 [==============================] - 193s 26ms/step - loss: 1.1877 - acc: 0.3475 - val_loss: 1.1170 - val_acc: 0.3492\n",
      "Epoch 3/45\n",
      "7352/7352 [==============================] - 206s 28ms/step - loss: 1.1553 - acc: 0.3477 - val_loss: 1.1119 - val_acc: 0.3495\n",
      "Epoch 4/45\n",
      "7352/7352 [==============================] - 210s 28ms/step - loss: 1.1497 - acc: 0.3527 - val_loss: 1.1752 - val_acc: 0.3431\n",
      "Epoch 5/45\n",
      "7352/7352 [==============================] - 204s 28ms/step - loss: 1.1402 - acc: 0.3534 - val_loss: 1.1044 - val_acc: 0.3539\n",
      "Epoch 6/45\n",
      "7352/7352 [==============================] - 224s 30ms/step - loss: 1.1349 - acc: 0.3566 - val_loss: 1.2340 - val_acc: 0.3295\n",
      "Epoch 7/45\n",
      "7352/7352 [==============================] - 197s 27ms/step - loss: 1.1037 - acc: 0.3745 - val_loss: 1.0551 - val_acc: 0.4523\n",
      "Epoch 8/45\n",
      "7352/7352 [==============================] - 196s 27ms/step - loss: 1.0753 - acc: 0.4248 - val_loss: 1.0962 - val_acc: 0.4343\n",
      "Epoch 9/45\n",
      "7352/7352 [==============================] - 196s 27ms/step - loss: 1.0590 - acc: 0.4370 - val_loss: 1.0153 - val_acc: 0.4418\n",
      "Epoch 10/45\n",
      "7352/7352 [==============================] - 194s 26ms/step - loss: 1.0475 - acc: 0.4389 - val_loss: 1.0288 - val_acc: 0.4374\n",
      "Epoch 11/45\n",
      "7352/7352 [==============================] - 195s 27ms/step - loss: 1.0316 - acc: 0.4527 - val_loss: 0.9989 - val_acc: 0.4574\n",
      "Epoch 12/45\n",
      "7352/7352 [==============================] - 195s 26ms/step - loss: 1.0147 - acc: 0.4812 - val_loss: 0.9861 - val_acc: 0.4876\n",
      "Epoch 13/45\n",
      "7352/7352 [==============================] - 195s 27ms/step - loss: 0.9956 - acc: 0.4921 - val_loss: 0.9805 - val_acc: 0.4941\n",
      "Epoch 14/45\n",
      "7352/7352 [==============================] - 196s 27ms/step - loss: 0.9663 - acc: 0.5146 - val_loss: 0.9787 - val_acc: 0.5175\n",
      "Epoch 15/45\n",
      "7352/7352 [==============================] - 200s 27ms/step - loss: 0.9508 - acc: 0.5235 - val_loss: 0.9372 - val_acc: 0.5144\n",
      "Epoch 16/45\n",
      "7352/7352 [==============================] - 197s 27ms/step - loss: 0.9292 - acc: 0.5457 - val_loss: 0.9291 - val_acc: 0.5338\n",
      "Epoch 17/45\n",
      "7352/7352 [==============================] - 201s 27ms/step - loss: 0.9199 - acc: 0.5496 - val_loss: 0.9033 - val_acc: 0.5582\n",
      "Epoch 18/45\n",
      "7352/7352 [==============================] - 198s 27ms/step - loss: 0.8961 - acc: 0.5600 - val_loss: 0.9034 - val_acc: 0.5670\n",
      "Epoch 19/45\n",
      "7352/7352 [==============================] - 197s 27ms/step - loss: 0.8768 - acc: 0.5733 - val_loss: 0.8888 - val_acc: 0.5728\n",
      "Epoch 20/45\n",
      "7352/7352 [==============================] - 198s 27ms/step - loss: 0.8721 - acc: 0.5758 - val_loss: 0.9307 - val_acc: 0.5572\n",
      "Epoch 21/45\n",
      "7352/7352 [==============================] - 201s 27ms/step - loss: 0.8634 - acc: 0.5842 - val_loss: 0.8560 - val_acc: 0.5521\n",
      "Epoch 22/45\n",
      "7352/7352 [==============================] - 198s 27ms/step - loss: 0.8350 - acc: 0.6021 - val_loss: 0.8356 - val_acc: 0.5731\n",
      "Epoch 23/45\n",
      "7352/7352 [==============================] - 198s 27ms/step - loss: 0.8320 - acc: 0.6027 - val_loss: 0.8190 - val_acc: 0.6193\n",
      "Epoch 24/45\n",
      "7352/7352 [==============================] - 203s 28ms/step - loss: 0.8123 - acc: 0.6202 - val_loss: 0.8118 - val_acc: 0.6213\n",
      "Epoch 25/45\n",
      "7352/7352 [==============================] - 197s 27ms/step - loss: 0.7754 - acc: 0.6416 - val_loss: 0.7363 - val_acc: 0.6356\n",
      "Epoch 26/45\n",
      "7352/7352 [==============================] - 196s 27ms/step - loss: 0.7203 - acc: 0.6681 - val_loss: 0.7364 - val_acc: 0.6420\n",
      "Epoch 27/45\n",
      "7352/7352 [==============================] - 200s 27ms/step - loss: 0.6755 - acc: 0.6938 - val_loss: 0.6312 - val_acc: 0.6888\n",
      "Epoch 28/45\n",
      "7352/7352 [==============================] - 198s 27ms/step - loss: 0.6259 - acc: 0.7161 - val_loss: 0.8251 - val_acc: 0.6824\n",
      "Epoch 29/45\n",
      "7352/7352 [==============================] - 197s 27ms/step - loss: 0.5934 - acc: 0.7304 - val_loss: 0.6442 - val_acc: 0.7262\n",
      "Epoch 30/45\n",
      "7352/7352 [==============================] - 198s 27ms/step - loss: 0.5970 - acc: 0.7393 - val_loss: 0.5264 - val_acc: 0.7940\n",
      "Epoch 31/45\n",
      "7352/7352 [==============================] - 200s 27ms/step - loss: 0.5539 - acc: 0.7523 - val_loss: 0.4906 - val_acc: 0.8147\n",
      "Epoch 32/45\n",
      "7352/7352 [==============================] - 211s 29ms/step - loss: 0.5363 - acc: 0.7561 - val_loss: 0.5412 - val_acc: 0.7910\n",
      "Epoch 33/45\n",
      "7352/7352 [==============================] - 211s 29ms/step - loss: 0.5120 - acc: 0.7772 - val_loss: 0.4940 - val_acc: 0.8015\n",
      "Epoch 34/45\n",
      "7352/7352 [==============================] - 207s 28ms/step - loss: 0.4951 - acc: 0.7780 - val_loss: 0.6666 - val_acc: 0.7465\n",
      "Epoch 35/45\n",
      "7352/7352 [==============================] - 209s 28ms/step - loss: 0.4952 - acc: 0.7829 - val_loss: 0.4745 - val_acc: 0.8062\n",
      "Epoch 36/45\n",
      "7352/7352 [==============================] - 209s 28ms/step - loss: 0.4729 - acc: 0.7972 - val_loss: 0.4469 - val_acc: 0.8198\n",
      "Epoch 37/45\n",
      "7352/7352 [==============================] - 209s 28ms/step - loss: 0.4580 - acc: 0.8030 - val_loss: 0.4744 - val_acc: 0.7974\n",
      "Epoch 38/45\n",
      "7352/7352 [==============================] - 210s 29ms/step - loss: 0.4449 - acc: 0.8122 - val_loss: 0.4390 - val_acc: 0.8249\n",
      "Epoch 39/45\n",
      "7352/7352 [==============================] - 212s 29ms/step - loss: 0.4326 - acc: 0.8214 - val_loss: 0.5036 - val_acc: 0.7981\n",
      "Epoch 40/45\n",
      "7352/7352 [==============================] - 214s 29ms/step - loss: 0.4407 - acc: 0.8158 - val_loss: 0.4337 - val_acc: 0.8144\n",
      "Epoch 41/45\n",
      "7352/7352 [==============================] - 207s 28ms/step - loss: 0.4225 - acc: 0.8273 - val_loss: 0.4129 - val_acc: 0.8347\n",
      "Epoch 42/45\n",
      "7352/7352 [==============================] - 209s 28ms/step - loss: 0.4109 - acc: 0.8293 - val_loss: 0.4695 - val_acc: 0.7849\n",
      "Epoch 43/45\n",
      "7352/7352 [==============================] - 208s 28ms/step - loss: 0.4011 - acc: 0.8346 - val_loss: 0.6860 - val_acc: 0.6990\n",
      "Epoch 44/45\n",
      "7352/7352 [==============================] - 210s 29ms/step - loss: 0.4052 - acc: 0.8266 - val_loss: 0.4911 - val_acc: 0.7950\n",
      "Epoch 45/45\n",
      "7352/7352 [==============================] - 211s 29ms/step - loss: 0.3902 - acc: 0.8366 - val_loss: 0.4961 - val_acc: 0.8117\n"
     ]
    },
    {
     "data": {
      "text/plain": [
       "<keras.callbacks.History at 0x1211b354288>"
      ]
     },
     "execution_count": 52,
     "metadata": {},
     "output_type": "execute_result"
    }
   ],
   "source": [
    "# Training the model\n",
    "model_2.fit(X_train, Y_train, batch_size=batch_size, validation_data=(X_test, Y_test), epochs=epochs)"
   ]
  },
  {
   "cell_type": "code",
   "execution_count": 53,
   "metadata": {},
   "outputs": [
    {
     "name": "stdout",
     "output_type": "stream",
     "text": [
      "Pred                LAYING  SITTING  STANDING  WALKING  WALKING_DOWNSTAIRS  \\\n",
      "True                                                                         \n",
      "LAYING                 387       26        54        0                   4   \n",
      "SITTING                 91      352        53        0                   0   \n",
      "STANDING                43        7       370        0                   0   \n",
      "WALKING                  0        1         0      529                   7   \n",
      "WALKING_DOWNSTAIRS       6        2         0        1                 499   \n",
      "WALKING_UPSTAIRS         1        0         0       20                 215   \n",
      "\n",
      "Pred                WALKING_UPSTAIRS  \n",
      "True                                  \n",
      "LAYING                             0  \n",
      "SITTING                            0  \n",
      "STANDING                           0  \n",
      "WALKING                            0  \n",
      "WALKING_DOWNSTAIRS                24  \n",
      "WALKING_UPSTAIRS                 255  \n"
     ]
    }
   ],
   "source": [
    "# Confusion Matrix\n",
    "print(confusion_matrix(Y_test, model_2.predict(X_test)))"
   ]
  },
  {
   "cell_type": "code",
   "execution_count": 54,
   "metadata": {},
   "outputs": [
    {
     "name": "stdout",
     "output_type": "stream",
     "text": [
      "2947/2947 [==============================] - 19s 7ms/step\n"
     ]
    },
    {
     "data": {
      "text/plain": [
       "[0.4960798446732454, 0.8116728876823889]"
      ]
     },
     "execution_count": 54,
     "metadata": {},
     "output_type": "execute_result"
    }
   ],
   "source": [
    "score = model_2.evaluate(X_test, Y_test)\n",
    "score"
   ]
  },
  {
   "cell_type": "code",
   "execution_count": 55,
   "metadata": {},
   "outputs": [
    {
     "data": {
      "text/plain": [
       "<matplotlib.legend.Legend at 0x1211b90cb48>"
      ]
     },
     "execution_count": 55,
     "metadata": {},
     "output_type": "execute_result"
    },
    {
     "data": {
      "image/png": "[encoded data removed]",
      "text/plain": [
       "<Figure size 432x288 with 1 Axes>"
      ]
     },
     "metadata": {
      "needs_background": "light"
     },
     "output_type": "display_data"
    }
   ],
   "source": [
    "plt.plot(model_2.history.history['loss'])\n",
    "plt.plot(model_2.history.history['val_loss'])\n",
    "plt.title('Model Loss')\n",
    "plt.ylabel('Loss')\n",
    "plt.xlabel('Epoch')\n",
    "plt.legend(['Train', 'Crossvalidation'])"
   ]
  },
  {
   "cell_type": "markdown",
   "metadata": {},
   "source": [
    "### LSTM Architecture - 3"
   ]
  },
  {
   "cell_type": "code",
   "execution_count": 56,
   "metadata": {
    "scrolled": true
   },
   "outputs": [
    {
     "name": "stdout",
     "output_type": "stream",
     "text": [
      "_________________________________________________________________\n",
      "Layer (type)                 Output Shape              Param #   \n",
      "=================================================================\n",
      "lstm_10 (LSTM)               (None, 561, 32)           4352      \n",
      "_________________________________________________________________\n",
      "batch_normalization_3 (Batch (None, 561, 32)           128       \n",
      "_________________________________________________________________\n",
      "dropout_10 (Dropout)         (None, 561, 32)           0         \n",
      "_________________________________________________________________\n",
      "lstm_11 (LSTM)               (None, 561, 32)           8320      \n",
      "_________________________________________________________________\n",
      "dropout_11 (Dropout)         (None, 561, 32)           0         \n",
      "_________________________________________________________________\n",
      "lstm_12 (LSTM)               (None, 32)                8320      \n",
      "_________________________________________________________________\n",
      "batch_normalization_4 (Batch (None, 32)                128       \n",
      "_________________________________________________________________\n",
      "dropout_12 (Dropout)         (None, 32)                0         \n",
      "_________________________________________________________________\n",
      "dense_11 (Dense)             (None, 100)               3300      \n",
      "_________________________________________________________________\n",
      "dense_12 (Dense)             (None, 6)                 606       \n",
      "=================================================================\n",
      "Total params: 25,154\n",
      "Trainable params: 25,026\n",
      "Non-trainable params: 128\n",
      "_________________________________________________________________\n"
     ]
    }
   ],
   "source": [
    "# Initiliazing the sequential model\n",
    "model_3 = Sequential()\n",
    "# Configuring the parameters\n",
    "model_3.add(LSTM(32, return_sequences = True, input_shape=(timesteps, input_dim)))\n",
    "model_3.add(BatchNormalization())\n",
    "model_3.add(Dropout(0.4))\n",
    "model_3.add(LSTM(32, return_sequences=True))\n",
    "\n",
    "model_3.add(Dropout(0.3))\n",
    "model_3.add(LSTM(32, return_sequences= False))\n",
    "\n",
    "model_3.add(BatchNormalization())\n",
    "model_3.add(Dropout(0.4))\n",
    "model_3.add(Dense(100, activation='relu'))\n",
    "# Adding a dense output layer with sigmoid activation\n",
    "model_3.add(Dense(n_classes, activation='sigmoid'))\n",
    "model_3.summary()"
   ]
  },
  {
   "cell_type": "code",
   "execution_count": 57,
   "metadata": {},
   "outputs": [],
   "source": [
    "# Compiling the model\n",
    "model_3.compile(loss='categorical_crossentropy', optimizer='rmsprop', metrics=['accuracy'])"
   ]
  },
  {
   "cell_type": "code",
   "execution_count": 58,
   "metadata": {
    "scrolled": true
   },
   "outputs": [
    {
     "name": "stdout",
     "output_type": "stream",
     "text": [
      "Train on 7352 samples, validate on 2947 samples\n",
      "Epoch 1/45\n",
      "7352/7352 [==============================] - 358s 49ms/step - loss: 1.1650 - acc: 0.3938 - val_loss: 1.0511 - val_acc: 0.4449\n",
      "Epoch 2/45\n",
      "7352/7352 [==============================] - 357s 49ms/step - loss: 1.0506 - acc: 0.4631 - val_loss: 3.1254 - val_acc: 0.2409\n",
      "Epoch 3/45\n",
      "7352/7352 [==============================] - 358s 49ms/step - loss: 0.9734 - acc: 0.5303 - val_loss: 0.9797 - val_acc: 0.5348\n",
      "Epoch 4/45\n",
      "7352/7352 [==============================] - 357s 49ms/step - loss: 0.9263 - acc: 0.5691 - val_loss: 1.1366 - val_acc: 0.5253\n",
      "Epoch 5/45\n",
      "7352/7352 [==============================] - 353s 48ms/step - loss: 0.8373 - acc: 0.6192 - val_loss: 0.9292 - val_acc: 0.6210\n",
      "Epoch 6/45\n",
      "7352/7352 [==============================] - 354s 48ms/step - loss: 0.7117 - acc: 0.6859 - val_loss: 0.6972 - val_acc: 0.7224\n",
      "Epoch 7/45\n",
      "7352/7352 [==============================] - 357s 49ms/step - loss: 0.6067 - acc: 0.7361 - val_loss: 0.5349 - val_acc: 0.7906\n",
      "Epoch 8/45\n",
      "7352/7352 [==============================] - 351s 48ms/step - loss: 0.5442 - acc: 0.7678 - val_loss: 0.5501 - val_acc: 0.7615\n",
      "Epoch 9/45\n",
      "7352/7352 [==============================] - 355s 48ms/step - loss: 0.5013 - acc: 0.7877 - val_loss: 0.4818 - val_acc: 0.7974\n",
      "Epoch 10/45\n",
      "7352/7352 [==============================] - 357s 49ms/step - loss: 0.4727 - acc: 0.8059 - val_loss: 0.5845 - val_acc: 0.7699\n",
      "Epoch 11/45\n",
      "7352/7352 [==============================] - 354s 48ms/step - loss: 0.4357 - acc: 0.8237 - val_loss: 0.5941 - val_acc: 0.7628\n",
      "Epoch 12/45\n",
      "7352/7352 [==============================] - 354s 48ms/step - loss: 0.4186 - acc: 0.8289 - val_loss: 0.4939 - val_acc: 0.8117\n",
      "Epoch 13/45\n",
      "7352/7352 [==============================] - 358s 49ms/step - loss: 0.3914 - acc: 0.8381 - val_loss: 0.6365 - val_acc: 0.7635\n",
      "Epoch 14/45\n",
      "7352/7352 [==============================] - 355s 48ms/step - loss: 0.3840 - acc: 0.8436 - val_loss: 0.3874 - val_acc: 0.8521\n",
      "Epoch 15/45\n",
      "7352/7352 [==============================] - 355s 48ms/step - loss: 0.3798 - acc: 0.8487 - val_loss: 0.6721 - val_acc: 0.7574\n",
      "Epoch 16/45\n",
      "7352/7352 [==============================] - 353s 48ms/step - loss: 0.3561 - acc: 0.8585 - val_loss: 0.4126 - val_acc: 0.8314\n",
      "Epoch 17/45\n",
      "7352/7352 [==============================] - 357s 49ms/step - loss: 0.3441 - acc: 0.8653 - val_loss: 0.4210 - val_acc: 0.8375\n",
      "Epoch 18/45\n",
      "7352/7352 [==============================] - 353s 48ms/step - loss: 0.3384 - acc: 0.8715 - val_loss: 0.4028 - val_acc: 0.8442\n",
      "Epoch 19/45\n",
      "7352/7352 [==============================] - 363s 49ms/step - loss: 0.3280 - acc: 0.8690 - val_loss: 0.3465 - val_acc: 0.8666\n",
      "Epoch 20/45\n",
      "7352/7352 [==============================] - 356s 48ms/step - loss: 0.3110 - acc: 0.8758 - val_loss: 0.3812 - val_acc: 0.8602\n",
      "Epoch 21/45\n",
      "7352/7352 [==============================] - 352s 48ms/step - loss: 0.3118 - acc: 0.8774 - val_loss: 0.3523 - val_acc: 0.8612\n",
      "Epoch 22/45\n",
      "7352/7352 [==============================] - 356s 48ms/step - loss: 0.2899 - acc: 0.8871 - val_loss: 0.5411 - val_acc: 0.8137\n",
      "Epoch 23/45\n",
      "7352/7352 [==============================] - 354s 48ms/step - loss: 0.3007 - acc: 0.8833 - val_loss: 0.5190 - val_acc: 0.8035\n",
      "Epoch 24/45\n",
      "7352/7352 [==============================] - 356s 48ms/step - loss: 0.2891 - acc: 0.8875 - val_loss: 0.3600 - val_acc: 0.8697\n",
      "Epoch 25/45\n",
      "7352/7352 [==============================] - 353s 48ms/step - loss: 0.2791 - acc: 0.8894 - val_loss: 0.3815 - val_acc: 0.8395\n",
      "Epoch 26/45\n",
      "7352/7352 [==============================] - 353s 48ms/step - loss: 0.2811 - acc: 0.8912 - val_loss: 0.3698 - val_acc: 0.8554\n",
      "Epoch 27/45\n",
      "7352/7352 [==============================] - 356s 48ms/step - loss: 0.2718 - acc: 0.8955 - val_loss: 0.3636 - val_acc: 0.8544\n",
      "Epoch 28/45\n",
      "7352/7352 [==============================] - 353s 48ms/step - loss: 0.2692 - acc: 0.8939 - val_loss: 0.4070 - val_acc: 0.8500\n",
      "Epoch 29/45\n",
      "7352/7352 [==============================] - 356s 48ms/step - loss: 0.2670 - acc: 0.8955 - val_loss: 0.3536 - val_acc: 0.8602\n",
      "Epoch 30/45\n",
      "7352/7352 [==============================] - 358s 49ms/step - loss: 0.2610 - acc: 0.9010 - val_loss: 0.3287 - val_acc: 0.8728\n",
      "Epoch 31/45\n",
      "7352/7352 [==============================] - 353s 48ms/step - loss: 0.2668 - acc: 0.9018 - val_loss: 0.3841 - val_acc: 0.8514\n",
      "Epoch 32/45\n",
      "7352/7352 [==============================] - 354s 48ms/step - loss: 0.2591 - acc: 0.9038 - val_loss: 0.4293 - val_acc: 0.8324\n",
      "Epoch 33/45\n",
      "7352/7352 [==============================] - 3002s 408ms/step - loss: 0.2437 - acc: 0.9059 - val_loss: 0.3674 - val_acc: 0.8578\n",
      "Epoch 34/45\n",
      "7352/7352 [==============================] - 365s 50ms/step - loss: 0.2533 - acc: 0.9052 - val_loss: 0.3148 - val_acc: 0.8741\n",
      "Epoch 35/45\n",
      "7352/7352 [==============================] - 374s 51ms/step - loss: 0.2419 - acc: 0.9081 - val_loss: 0.3886 - val_acc: 0.8544\n",
      "Epoch 36/45\n",
      "7352/7352 [==============================] - 376s 51ms/step - loss: 0.2381 - acc: 0.9085 - val_loss: 0.4478 - val_acc: 0.8398\n",
      "Epoch 37/45\n",
      "7352/7352 [==============================] - 378s 51ms/step - loss: 0.2302 - acc: 0.9106 - val_loss: 0.3611 - val_acc: 0.8602\n",
      "Epoch 38/45\n",
      "7352/7352 [==============================] - 370s 50ms/step - loss: 0.2324 - acc: 0.9105 - val_loss: 0.3742 - val_acc: 0.8459\n",
      "Epoch 39/45\n",
      "7352/7352 [==============================] - 317s 43ms/step - loss: 0.2272 - acc: 0.9112 - val_loss: 0.3577 - val_acc: 0.8721\n",
      "Epoch 40/45\n",
      "7352/7352 [==============================] - 324s 44ms/step - loss: 0.2224 - acc: 0.9147 - val_loss: 0.3597 - val_acc: 0.8677\n",
      "Epoch 41/45\n",
      "7352/7352 [==============================] - 319s 43ms/step - loss: 0.2260 - acc: 0.9102 - val_loss: 0.3584 - val_acc: 0.8643\n",
      "Epoch 42/45\n",
      "7352/7352 [==============================] - 310s 42ms/step - loss: 0.2277 - acc: 0.9140 - val_loss: 0.3431 - val_acc: 0.8833\n",
      "Epoch 43/45\n",
      "7352/7352 [==============================] - 309s 42ms/step - loss: 0.2223 - acc: 0.9180 - val_loss: 0.2601 - val_acc: 0.9002\n",
      "Epoch 44/45\n",
      "7352/7352 [==============================] - 309s 42ms/step - loss: 0.2078 - acc: 0.9178 - val_loss: 0.3344 - val_acc: 0.8704\n",
      "Epoch 45/45\n",
      "7352/7352 [==============================] - 307s 42ms/step - loss: 0.2130 - acc: 0.9183 - val_loss: 0.2705 - val_acc: 0.8938\n"
     ]
    },
    {
     "data": {
      "text/plain": [
       "<keras.callbacks.History at 0x121208b9d48>"
      ]
     },
     "execution_count": 58,
     "metadata": {},
     "output_type": "execute_result"
    }
   ],
   "source": [
    "# Training the model\n",
    "model_3.fit(X_train, Y_train, batch_size=batch_size, validation_data=(X_test, Y_test), epochs=epochs)"
   ]
  },
  {
   "cell_type": "code",
   "execution_count": 59,
   "metadata": {},
   "outputs": [
    {
     "name": "stdout",
     "output_type": "stream",
     "text": [
      "Pred                LAYING  SITTING  STANDING  WALKING  WALKING_DOWNSTAIRS  \\\n",
      "True                                                                         \n",
      "LAYING                 439       24         8        0                   0   \n",
      "SITTING                 37      447        12        0                   0   \n",
      "STANDING                48        2       370        0                   0   \n",
      "WALKING                  1        0         0      536                   0   \n",
      "WALKING_DOWNSTAIRS       1        1         0        0                 486   \n",
      "WALKING_UPSTAIRS         3        0         0        2                 130   \n",
      "\n",
      "Pred                WALKING_UPSTAIRS  \n",
      "True                                  \n",
      "LAYING                             0  \n",
      "SITTING                            0  \n",
      "STANDING                           0  \n",
      "WALKING                            0  \n",
      "WALKING_DOWNSTAIRS                44  \n",
      "WALKING_UPSTAIRS                 356  \n"
     ]
    }
   ],
   "source": [
    "# Confusion Matrix\n",
    "print(confusion_matrix(Y_test, model_3.predict(X_test)))"
   ]
  },
  {
   "cell_type": "code",
   "execution_count": 60,
   "metadata": {},
   "outputs": [
    {
     "name": "stdout",
     "output_type": "stream",
     "text": [
      "2947/2947 [==============================] - 26s 9ms/step\n"
     ]
    },
    {
     "data": {
      "text/plain": [
       "[0.2705098457803838, 0.8937902952154734]"
      ]
     },
     "execution_count": 60,
     "metadata": {},
     "output_type": "execute_result"
    }
   ],
   "source": [
    "score = model_3.evaluate(X_test, Y_test)\n",
    "score"
   ]
  },
  {
   "cell_type": "code",
   "execution_count": 61,
   "metadata": {},
   "outputs": [
    {
     "data": {
      "text/plain": [
       "<matplotlib.legend.Legend at 0x12149979788>"
      ]
     },
     "execution_count": 61,
     "metadata": {},
     "output_type": "execute_result"
    },
    {
     "data": {
      "image/png": "[encoded data removed]",
      "text/plain": [
       "<Figure size 432x288 with 1 Axes>"
      ]
     },
     "metadata": {
      "needs_background": "light"
     },
     "output_type": "display_data"
    }
   ],
   "source": [
    "plt.plot(model_3.history.history['loss'])\n",
    "plt.plot(model_3.history.history['val_loss'])\n",
    "plt.title('Model Loss')\n",
    "plt.ylabel('Loss')\n",
    "plt.xlabel('Epoch')\n",
    "plt.legend(['Train', 'Crossvalidation'])"
   ]
  },
  {
   "cell_type": "code",
   "execution_count": null,
   "metadata": {},
   "outputs": [],
   "source": []
  }
 ],
 "metadata": {
  "kernelspec": {
   "display_name": "Python 3",
   "language": "python",
   "name": "python3"
  },
  "language_info": {
   "codemirror_mode": {
    "name": "ipython",
    "version": 3
   },
   "file_extension": ".py",
   "mimetype": "text/x-python",
   "name": "python",
   "nbconvert_exporter": "python",
   "pygments_lexer": "ipython3",
   "version": "3.7.4"
  }
 },
 "nbformat": 4,
 "nbformat_minor": 2
}
